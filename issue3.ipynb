{
 "cells": [
  {
   "cell_type": "code",
   "execution_count": 1,
   "metadata": {},
   "outputs": [],
   "source": [
    "import pandas as pd\n",
    "import clean"
   ]
  },
  {
   "cell_type": "markdown",
   "metadata": {},
   "source": [
    "### Cleaning the dataset\n",
    "* Step 1: Import excel sheets \n",
    "* Step 2: Remove redundant col names from Worker df (Shift Start Date, Shift End Date)\n",
    "* Step 3: Merged Unfufiled and filled dataframes together, labeling \"Worker ID\" for the unfulfilled shifts as \"unfulfilled\"\n",
    "* Step 4: Created a shift length col for Shift df\n",
    "* Step 5: Added in a Role classification col for both dfs (NP, CC, Scribe)\n",
    "* Step 6: Imputed missing preferred hours in worker df using: (actual hours worked / 4 weeks)\n",
    "* Step 7: Return cleaned dfs: Workers, Shifts\n",
    "\n",
    "*View clean.py for a detailed walkthrough of how the datasets were cleaned*"
   ]
  },
  {
   "cell_type": "markdown",
   "metadata": {},
   "source": [
    "### Issue 3: Unqualified Scheduling\n",
    "##### Insights\n",
    "* 29 shifts were filled by workers without the approrpriate qualifications "
   ]
  },
  {
   "cell_type": "code",
   "execution_count": 2,
   "metadata": {},
   "outputs": [],
   "source": [
    "workers, shifts = clean.clean_shifts()\n",
    "\n",
    "# Renaming shift col to Position Shift in order to conduct comparison\n",
    "shifts = shifts.rename(columns={'Positions': 'Position Shift'})"
   ]
  },
  {
   "cell_type": "code",
   "execution_count": 5,
   "metadata": {},
   "outputs": [],
   "source": [
    "# Merging the Positions of the worker who worked each speceific shift\n",
    "Shifts_Workers = pd.merge(shifts, workers[['Worker ID', 'Positions']], on='Worker ID', how='inner')\n",
    "Shifts_Workers['Matched_correctly'] = Shifts_Workers.apply(lambda row: True if isinstance(row['Positions'], str) and row['Position Shift'] in row['Positions'] else False, axis=1)\n",
    "mismatched_shifts = Shifts_Workers[Shifts_Workers['Matched_correctly'] == False].reset_index(drop=True)"
   ]
  },
  {
   "cell_type": "code",
   "execution_count": 8,
   "metadata": {},
   "outputs": [
    {
     "data": {
      "text/plain": [
       "Position Shift\n",
       "NP CA                                      14\n",
       "NP CA+NY+DC                                 4\n",
       "NP NY+DC                                    4\n",
       "Remote CC - Urgent Coordination - Tasks     7\n",
       "Name: Worker ID, dtype: int64"
      ]
     },
     "execution_count": 8,
     "metadata": {},
     "output_type": "execute_result"
    }
   ],
   "source": [
    "mismatched_shifts"
   ]
  },
  {
   "cell_type": "code",
   "execution_count": null,
   "metadata": {},
   "outputs": [],
   "source": []
  },
  {
   "cell_type": "code",
   "execution_count": null,
   "metadata": {},
   "outputs": [],
   "source": []
  }
 ],
 "metadata": {
  "kernelspec": {
   "display_name": "Python 3",
   "language": "python",
   "name": "python3"
  },
  "language_info": {
   "codemirror_mode": {
    "name": "ipython",
    "version": 3
   },
   "file_extension": ".py",
   "mimetype": "text/x-python",
   "name": "python",
   "nbconvert_exporter": "python",
   "pygments_lexer": "ipython3",
   "version": "3.11.3"
  }
 },
 "nbformat": 4,
 "nbformat_minor": 2
}
