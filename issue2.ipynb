{
 "cells": [
  {
   "cell_type": "code",
   "execution_count": 1,
   "metadata": {},
   "outputs": [],
   "source": [
    "import pandas as pd\n",
    "import clean\n",
    "from faker import Faker\n",
    "from workers import Worker"
   ]
  },
  {
   "cell_type": "markdown",
   "metadata": {},
   "source": [
    "### Cleaning the dataset\n",
    "* Step 1: Import excel sheets \n",
    "* Step 2: Remove redundant col names from Worker df (Shift Start Date, Shift End Date)\n",
    "* Step 3: Merged Unfufiled and filled dataframes together, labeling \"Worker ID\" for the unfulfilled shifts as \"unfulfilled\"\n",
    "* Step 4: Created a shift length col for Shift df\n",
    "* Step 5: Added in a Role classification col for both dfs (NP, CC, Scribe)\n",
    "* Step 6: Imputed missing preferred hours in worker df using: (actual hours worked / 4 weeks)\n",
    "* Step 7: Return cleaned dfs: Workers, Shifts\n",
    "\n",
    "*View clean.py for a detailed walkthrough of how the datasets were cleaned*"
   ]
  },
  {
   "cell_type": "code",
   "execution_count": 2,
   "metadata": {},
   "outputs": [],
   "source": [
    "workers, shifts = clean.clean_shifts()"
   ]
  },
  {
   "cell_type": "markdown",
   "metadata": {},
   "source": [
    "### Issue 2: Scheduling and Misused hours\n",
    "##### Insights\n",
    "* Out of the 17 workers that did not work any hours last month, 3 did have preferred hours specified, 2 have no position specified, the rest had no preferred hours specified\n",
    "* There were 13 workers who worked more than there specified preferred hours (see pivot chart for breakdown by Role)\n",
    "* All roles saw an abundance of unused hours (>1000) by the end of the month leading us to wonder why are there still significant unfulfilled shifts"
   ]
  },
  {
   "cell_type": "code",
   "execution_count": 3,
   "metadata": {},
   "outputs": [
    {
     "data": {
      "text/plain": [
       "Role\n",
       "CC       -10.0\n",
       "NP       -51.0\n",
       "Scribe    -8.0\n",
       "Name: Hour Delta, dtype: float64"
      ]
     },
     "execution_count": 3,
     "metadata": {},
     "output_type": "execute_result"
    }
   ],
   "source": [
    "# Investigate overutilized workers, i.e., actual hours worked > preferred hours worked\n",
    "workers['Hour Delta'] = workers['Preferred Hours'] - workers['Actual Hours']\n",
    "\n",
    "# Filtering df for a negative delta hours \n",
    "over_utilized = workers[workers['Hour Delta'] < 0]\n",
    "\n",
    "# Over utilized hours do not seem significant - additionally only two workers who had preferred hours of 40 (full-time) ended up working overtime.\n",
    "over_utilized.groupby('Role')['Hour Delta'].sum()"
   ]
  },
  {
   "cell_type": "code",
   "execution_count": 4,
   "metadata": {},
   "outputs": [
    {
     "data": {
      "text/html": [
       "<div>\n",
       "<style scoped>\n",
       "    .dataframe tbody tr th:only-of-type {\n",
       "        vertical-align: middle;\n",
       "    }\n",
       "\n",
       "    .dataframe tbody tr th {\n",
       "        vertical-align: top;\n",
       "    }\n",
       "\n",
       "    .dataframe thead th {\n",
       "        text-align: right;\n",
       "    }\n",
       "</style>\n",
       "<table border=\"1\" class=\"dataframe\">\n",
       "  <thead>\n",
       "    <tr style=\"text-align: right;\">\n",
       "      <th></th>\n",
       "      <th>Total Hours Provided</th>\n",
       "      <th>Unutilized Hours</th>\n",
       "      <th>Fufilled Hours</th>\n",
       "      <th>unfulfilled Hours</th>\n",
       "    </tr>\n",
       "    <tr>\n",
       "      <th>Role</th>\n",
       "      <th></th>\n",
       "      <th></th>\n",
       "      <th></th>\n",
       "      <th></th>\n",
       "    </tr>\n",
       "  </thead>\n",
       "  <tbody>\n",
       "    <tr>\n",
       "      <th>CC</th>\n",
       "      <td>6984.0</td>\n",
       "      <td>2380.0</td>\n",
       "      <td>4998</td>\n",
       "      <td>210</td>\n",
       "    </tr>\n",
       "    <tr>\n",
       "      <th>NP</th>\n",
       "      <td>3328.0</td>\n",
       "      <td>1012.0</td>\n",
       "      <td>2576</td>\n",
       "      <td>352</td>\n",
       "    </tr>\n",
       "    <tr>\n",
       "      <th>Scribe</th>\n",
       "      <td>3088.0</td>\n",
       "      <td>1104.0</td>\n",
       "      <td>2842</td>\n",
       "      <td>56</td>\n",
       "    </tr>\n",
       "  </tbody>\n",
       "</table>\n",
       "</div>"
      ],
      "text/plain": [
       "        Total Hours Provided  Unutilized Hours  Fufilled Hours  \\\n",
       "Role                                                             \n",
       "CC                    6984.0            2380.0            4998   \n",
       "NP                    3328.0            1012.0            2576   \n",
       "Scribe                3088.0            1104.0            2842   \n",
       "\n",
       "        unfulfilled Hours  \n",
       "Role                       \n",
       "CC                    210  \n",
       "NP                    352  \n",
       "Scribe                 56  "
      ]
     },
     "execution_count": 4,
     "metadata": {},
     "output_type": "execute_result"
    }
   ],
   "source": [
    "# Investigate underutilized workers, i.e. actual hours worked < preferred hours worked\n",
    "\n",
    "total_hours = workers.groupby('Role')['Preferred Hours'].sum()\n",
    "unutilized = workers[workers['Hour Delta'] > 0]\n",
    "unutilized = unutilized.groupby('Role')['Hour Delta'].sum()\n",
    "unfulfilled = shifts[shifts['Worker ID'] == 'unfulfilled'].groupby('Role')['Shift Length'].sum()\n",
    "fufilled = shifts[shifts['Worker ID'] != 'unfulfilled'].groupby('Role')['Shift Length'].sum()\n",
    "\n",
    "chart = pd.concat([total_hours,unutilized,fufilled, unfulfilled],axis=1, keys=['Total Hours Provided','Unutilized Hours','Fufilled Hours', 'unfulfilled Hours'])\n",
    "chart['Unutilized Hours'] = chart['Unutilized Hours']*4\n",
    "chart['Total Hours Provided'] = chart['Total Hours Provided']*4\n",
    "chart"
   ]
  },
  {
   "cell_type": "markdown",
   "metadata": {},
   "source": [
    "***"
   ]
  },
  {
   "cell_type": "markdown",
   "metadata": {},
   "source": [
    "##### Running the newly created Schedule Builder to identify workers who would have been available and qualified to work durring the unfulfilled shifts\n",
    "##### Process\n",
    "* Using a newly created Worker object, we will create a programmatic representation of each worker, their information, as well as all the shifts they actually worked last month\n",
    "* Thereafter, we will test each shift on each worker to see how many workers would have been both qualified and 'available' to work that shift; after one qualified worker will be selected at random to fufill the shift, and the process will continue with the next shift and so on."
   ]
  },
  {
   "cell_type": "code",
   "execution_count": 5,
   "metadata": {},
   "outputs": [],
   "source": [
    "# Instantiate Faker as fake\n",
    "fake = Faker()"
   ]
  },
  {
   "cell_type": "code",
   "execution_count": 6,
   "metadata": {},
   "outputs": [],
   "source": [
    "Forward_staff = []\n",
    "\n",
    "for index, row in workers.iterrows():\n",
    "    first_name = fake.first_name()\n",
    "    worker = Worker(first_name, row['Worker ID'], row['Positions'], row['Preferred Hours'])\n",
    "    Forward_staff.append(worker)"
   ]
  },
  {
   "cell_type": "code",
   "execution_count": 7,
   "metadata": {},
   "outputs": [],
   "source": [
    "# Recreating seperate dfs for unfulfilled and fufilled shifts\n",
    "fufilled_shifts_df = shifts[shifts['Worker ID'] !='unfulfilled'].reset_index(drop=True)\n",
    "unfulfilled_shifts_df = shifts[shifts['Worker ID'] =='unfulfilled'].reset_index(drop=True)"
   ]
  },
  {
   "cell_type": "code",
   "execution_count": 8,
   "metadata": {},
   "outputs": [],
   "source": [
    "for index, row in fufilled_shifts_df.iterrows():\n",
    "    for worker in Forward_staff:\n",
    "        if worker.worker_ID == row['Worker ID']:\n",
    "            shift = [row['Shift Start Time'], row['Shift End Time']]\n",
    "            worker.add_shift(shift, row['Shift Length'])"
   ]
  },
  {
   "cell_type": "code",
   "execution_count": 9,
   "metadata": {},
   "outputs": [],
   "source": [
    "import random\n",
    "\n",
    "unfulfilled_shifts = {}\n",
    "\n",
    "# First Iterate through each row or shift \n",
    "for index, row in unfulfilled_shifts_df.iterrows():\n",
    "    possible_workers = []\n",
    "    # Second iterate through each worker to compare the matching criteria \n",
    "    for worker in Forward_staff:\n",
    "        if worker.is_free(row['Shift Start Time'], row['Shift End Time']) and worker.meets_preferred_hours(row['Shift Length']) and worker.is_qualified(row['Positions']):\n",
    "            possible_workers.append(worker)\n",
    "\n",
    "\n",
    "    # Conditional to test if there were any matching workers identified\n",
    "    if possible_workers:\n",
    "        unfulfilled_shifts[row['Positions'] + \" shift on \" + row['Shift Start Time'].strftime('%m-%d, %H:%M')] = len(possible_workers)\n",
    "        # Select worker at random from list\n",
    "        selected_worker = random.choice(possible_workers)\n",
    "        # Assign selected worker to shift\n",
    "        unfulfilled_shifts_df.at[index,'Worker ID'] = selected_worker.worker_ID\n",
    "        selected_worker.add_shift([row['Shift Start Time'],row['Shift End Time']],row['Shift Length'])"
   ]
  },
  {
   "cell_type": "code",
   "execution_count": 10,
   "metadata": {},
   "outputs": [],
   "source": [
    "df_unfulfilled_shifts = pd.DataFrame.from_dict(unfulfilled_shifts, orient='index', columns=['Num Possible Workers'])\n",
    "df_unfulfilled_shifts.reset_index(inplace=True)\n",
    "df_unfulfilled_shifts = df_unfulfilled_shifts.rename(columns={'index': 'Positions'})\n",
    "df_unfulfilled_shifts = clean.Role_classification(df_unfulfilled_shifts)"
   ]
  },
  {
   "cell_type": "code",
   "execution_count": 11,
   "metadata": {},
   "outputs": [
    {
     "data": {
      "text/html": [
       "<div>\n",
       "<style scoped>\n",
       "    .dataframe tbody tr th:only-of-type {\n",
       "        vertical-align: middle;\n",
       "    }\n",
       "\n",
       "    .dataframe tbody tr th {\n",
       "        vertical-align: top;\n",
       "    }\n",
       "\n",
       "    .dataframe thead th {\n",
       "        text-align: right;\n",
       "    }\n",
       "</style>\n",
       "<table border=\"1\" class=\"dataframe\">\n",
       "  <thead>\n",
       "    <tr style=\"text-align: right;\">\n",
       "      <th></th>\n",
       "      <th>Positions</th>\n",
       "      <th>Num Possible Workers</th>\n",
       "      <th>Role</th>\n",
       "    </tr>\n",
       "  </thead>\n",
       "  <tbody>\n",
       "    <tr>\n",
       "      <th>0</th>\n",
       "      <td>NP NY shift on 07-27, 18:00</td>\n",
       "      <td>15</td>\n",
       "      <td>NP</td>\n",
       "    </tr>\n",
       "    <tr>\n",
       "      <th>1</th>\n",
       "      <td>NP CA shift on 07-27, 13:30</td>\n",
       "      <td>19</td>\n",
       "      <td>NP</td>\n",
       "    </tr>\n",
       "    <tr>\n",
       "      <th>2</th>\n",
       "      <td>NP NY shift on 07-27, 13:30</td>\n",
       "      <td>17</td>\n",
       "      <td>NP</td>\n",
       "    </tr>\n",
       "    <tr>\n",
       "      <th>3</th>\n",
       "      <td>NP NY shift on 07-27, 12:00</td>\n",
       "      <td>16</td>\n",
       "      <td>NP</td>\n",
       "    </tr>\n",
       "    <tr>\n",
       "      <th>4</th>\n",
       "      <td>NP CA shift on 07-27, 12:00</td>\n",
       "      <td>18</td>\n",
       "      <td>NP</td>\n",
       "    </tr>\n",
       "    <tr>\n",
       "      <th>...</th>\n",
       "      <td>...</td>\n",
       "      <td>...</td>\n",
       "      <td>...</td>\n",
       "    </tr>\n",
       "    <tr>\n",
       "      <th>260</th>\n",
       "      <td>NP CA+NY+DC shift on 06-30, 10:30</td>\n",
       "      <td>7</td>\n",
       "      <td>NP</td>\n",
       "    </tr>\n",
       "    <tr>\n",
       "      <th>261</th>\n",
       "      <td>NP CA shift on 06-30, 10:30</td>\n",
       "      <td>12</td>\n",
       "      <td>NP</td>\n",
       "    </tr>\n",
       "    <tr>\n",
       "      <th>262</th>\n",
       "      <td>NP CA shift on 06-30, 09:00</td>\n",
       "      <td>14</td>\n",
       "      <td>NP</td>\n",
       "    </tr>\n",
       "    <tr>\n",
       "      <th>263</th>\n",
       "      <td>NP CA+NY+DC shift on 06-30, 09:00</td>\n",
       "      <td>8</td>\n",
       "      <td>NP</td>\n",
       "    </tr>\n",
       "    <tr>\n",
       "      <th>264</th>\n",
       "      <td>Remote CC - Chat-Tasks shift on 06-30, 08:00</td>\n",
       "      <td>23</td>\n",
       "      <td>CC</td>\n",
       "    </tr>\n",
       "  </tbody>\n",
       "</table>\n",
       "<p>265 rows × 3 columns</p>\n",
       "</div>"
      ],
      "text/plain": [
       "                                        Positions  Num Possible Workers Role\n",
       "0                     NP NY shift on 07-27, 18:00                    15   NP\n",
       "1                     NP CA shift on 07-27, 13:30                    19   NP\n",
       "2                     NP NY shift on 07-27, 13:30                    17   NP\n",
       "3                     NP NY shift on 07-27, 12:00                    16   NP\n",
       "4                     NP CA shift on 07-27, 12:00                    18   NP\n",
       "..                                            ...                   ...  ...\n",
       "260             NP CA+NY+DC shift on 06-30, 10:30                     7   NP\n",
       "261                   NP CA shift on 06-30, 10:30                    12   NP\n",
       "262                   NP CA shift on 06-30, 09:00                    14   NP\n",
       "263             NP CA+NY+DC shift on 06-30, 09:00                     8   NP\n",
       "264  Remote CC - Chat-Tasks shift on 06-30, 08:00                    23   CC\n",
       "\n",
       "[265 rows x 3 columns]"
      ]
     },
     "execution_count": 11,
     "metadata": {},
     "output_type": "execute_result"
    }
   ],
   "source": [
    "df_unfulfilled_shifts"
   ]
  },
  {
   "cell_type": "code",
   "execution_count": 19,
   "metadata": {},
   "outputs": [
    {
     "name": "stderr",
     "output_type": "stream",
     "text": [
      "C:\\Users\\A654219\\AppData\\Local\\Temp\\ipykernel_36728\\3356376208.py:5: FutureWarning: \n",
      "\n",
      "Passing `palette` without assigning `hue` is deprecated and will be removed in v0.14.0. Assign the `x` variable to `hue` and set `legend=False` for the same effect.\n",
      "\n",
      "  sns.boxplot(data=df_unfulfilled_shifts, x='Role', y='Num Possible Workers', palette=['lightsteelblue', 'darkseagreen', 'moccasin'], ax=ax)\n"
     ]
    },
    {
     "data": {
      "image/png": "[encoded data removed]",
      "text/plain": [
       "<Figure size 800x600 with 1 Axes>"
      ]
     },
     "metadata": {},
     "output_type": "display_data"
    }
   ],
   "source": [
    "import pandas as pd\n",
    "import matplotlib.pyplot as plt\n",
    "import seaborn as sns\n",
    "fig, ax = plt.subplots(figsize=(8, 6))\n",
    "sns.boxplot(data=df_unfulfilled_shifts, x='Role', y='Num Possible Workers', palette=['lightsteelblue', 'darkseagreen', 'moccasin'], ax=ax)\n",
    "ax.set_title('Number of Possible Workers by Role Type', fontsize = 18)\n",
    "ax.set_xlabel('Role', fontsize = 14)\n",
    "ax.set_ylabel('Number of Possible Workers', fontsize = 14)\n",
    "plt.tight_layout()\n",
    "\n",
    "# Remove the spines (boxes around the chart)\n",
    "for spine in ['top', 'right', 'left', 'bottom']:\n",
    "    ax.spines[spine].set_visible(False)\n",
    "plt.grid(axis='y', linewidth=0.5)\n",
    "# Save the plot\n",
    "# plt.savefig('boxplot.png', dpi=300)\n",
    "\n",
    "# Optionally, show the plot\n",
    "plt.show()"
   ]
  }
 ],
 "metadata": {
  "kernelspec": {
   "display_name": "Python 3",
   "language": "python",
   "name": "python3"
  },
  "language_info": {
   "codemirror_mode": {
    "name": "ipython",
    "version": 3
   },
   "file_extension": ".py",
   "mimetype": "text/x-python",
   "name": "python",
   "nbconvert_exporter": "python",
   "pygments_lexer": "ipython3",
   "version": "3.11.3"
  }
 },
 "nbformat": 4,
 "nbformat_minor": 2
}
